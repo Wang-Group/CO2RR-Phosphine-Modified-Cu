{
 "cells": [
  {
   "cell_type": "markdown",
   "metadata": {},
   "source": [
    "##### XGB-Stepregression   \n",
    "##20220409sym编写 \n",
    "### 简介：  \n",
    "使用逐步回归的方法提取最重要的特征相互作用\n",
    "### 更新记录：  \n",
    "V2，20221221sym更新，  \n",
    "V2.1,20240117sym更新，加入yrealtestpred，假如要预测完全数据外的情况，用这个程序\n",
    "V2.2，20240408sym更改，加入pred的std，并可以任意指定全集中的测试集，根据化学假的需求"
   ]
  },
  {
   "cell_type": "code",
   "execution_count": 1,
   "metadata": {
    "ExecuteTime": {
     "end_time": "2024-04-12T02:41:54.734659Z",
     "start_time": "2024-04-12T02:41:50.541843Z"
    }
   },
   "outputs": [],
   "source": [
    "import numpy as np\n",
    "import matplotlib.pyplot as plt\n",
    "import time\n",
    "import gc\n",
    "import os\n",
    "from pathlib import Path\n",
    "c_time = time.strftime(\"%Y%m%d_%H%M%S\", time.localtime())\n",
    "c_time_m = time.strftime(\"%Y-%m-%d %H:%M:%S\", time.localtime())\n"
   ]
  },
  {
   "cell_type": "code",
   "execution_count": 2,
   "metadata": {
    "ExecuteTime": {
     "end_time": "2024-04-12T02:41:54.792681Z",
     "start_time": "2024-04-12T02:41:54.747526Z"
    }
   },
   "outputs": [],
   "source": [
    "# 参数\n",
    "# ======== System Setup ========\n",
    "Version = 'V2.2sym'\n",
    "EPOCH = 160\n",
    "CORE_NUM = 32\n",
    "# 确保EPOCH*REPEAT_ROUND是CORE_NUM的整数倍\n",
    "TRAIN_TEST_SPLIT = 0.85\n",
    "# ======== Fit Data Input ========\n",
    "S_N = 44\n",
    "F_N = 74\n",
    "INPUT_X = 'Features_'+str(S_N)+'_'+str(F_N)+'.csv'\n",
    "INPUT_Y = 'Values_True_'+str(S_N)+'.csv'\n",
    "INPUT_TITLE = 'Title_'+str(F_N)+'.csv'\n",
    "INPUT_SMILES = 'Smiles_'+str(S_N)+'.csv'\n",
    "RECORD_NAME = 'Record_Stepreg_'+Version+'_'+c_time+'.txt'\n",
    "\n",
    "X = np.loadtxt(INPUT_X, delimiter=',')\n",
    "y = np.loadtxt(INPUT_Y)\n",
    "title = np.loadtxt(INPUT_TITLE, dtype=str, delimiter=',', comments='!')\n",
    "#是否设定第一特征\n",
    "KNOW_inifeat=False\n",
    "inifeat=[37]\n",
    "# 记得减一\n",
    "#F_N-1为全部特征都筛选\n",
    "Stepfeatnum=5\n",
    "\n",
    "# List of test set indices provided by the user\n",
    "test_indices = [20,35,36,42]  # 对应是Full的matrix是刚刚好（有title的特征和标签值的Full），人工设定\n",
    "\n",
    "real_testset_len=4\n",
    "test_indices= np.random.choice(S_N, size=real_testset_len, replace=False)\n",
    "test_indices = [i - 2 for i in test_indices]\n",
    "test_mask = np.zeros(len(y), dtype=bool)\n",
    "test_mask[test_indices] = True\n",
    "X_train = X[~test_mask]\n",
    "y_train = y[~test_mask]\n",
    "Xrealtest = X[test_mask]\n",
    "yrealtest = y[test_mask]\n",
    "X=X_train\n",
    "y=y_train\n"
   ]
  },
  {
   "cell_type": "code",
   "execution_count": 3,
   "metadata": {
    "ExecuteTime": {
     "end_time": "2024-04-12T02:41:54.920712Z",
     "start_time": "2024-04-12T02:41:54.798233Z"
    }
   },
   "outputs": [
    {
     "data": {
      "text/plain": [
       "40"
      ]
     },
     "execution_count": 3,
     "metadata": {},
     "output_type": "execute_result"
    }
   ],
   "source": [
    "len(y)"
   ]
  },
  {
   "cell_type": "code",
   "execution_count": 4,
   "metadata": {
    "ExecuteTime": {
     "end_time": "2024-04-12T02:41:54.985163Z",
     "start_time": "2024-04-12T02:41:54.927532Z"
    }
   },
   "outputs": [
    {
     "data": {
      "text/plain": [
       "array([7.3 , 6.32, 6.6 , 7.16])"
      ]
     },
     "execution_count": 4,
     "metadata": {},
     "output_type": "execute_result"
    }
   ],
   "source": [
    "yrealtest"
   ]
  },
  {
   "cell_type": "code",
   "execution_count": 5,
   "metadata": {
    "ExecuteTime": {
     "end_time": "2024-04-12T02:41:59.808996Z",
     "start_time": "2024-04-12T02:41:55.022252Z"
    }
   },
   "outputs": [],
   "source": [
    "import shap\n",
    "import xgboost as xgb\n",
    "from xgboost.sklearn import XGBRegressor\n",
    "from sklearn.metrics import mean_squared_error, r2_score, mean_absolute_error\n",
    "from sklearn import model_selection\n",
    "import joblib\n",
    "from multiprocessing import Pool"
   ]
  },
  {
   "cell_type": "code",
   "execution_count": 6,
   "metadata": {
    "ExecuteTime": {
     "end_time": "2024-04-12T02:41:59.840885Z",
     "start_time": "2024-04-12T02:41:59.816073Z"
    }
   },
   "outputs": [],
   "source": [
    "DIR = 'Stepreg-XGB_'+Version+'_'+c_time\n",
    "os.mkdir(DIR)\n",
    "RECORD_NAME = Path('.', DIR, RECORD_NAME)\n",
    "f1 = open(RECORD_NAME, 'w')\n",
    "f1.write('Record of XGB-Stepregression '+Version+'\\n\\n')\n",
    "f1.write('Generation time: '+time.strftime(\"%Y-%m-%d %H:%M:%S\", time.localtime())+'\\n\\n\\n')\n",
    "f1.write('Inputfiles are: '+INPUT_X+'+'+INPUT_Y+'+'+INPUT_TITLE+'+'+'\\n\\n\\n')\n",
    "f1.write('EPOCH= '+str(EPOCH)+' CORENUM= '+str(CORE_NUM)+INPUT_X+' splitratio= '+str(round(TRAIN_TEST_SPLIT,3))+'\\n\\n\\n')\n",
    "f1.write('test list see Feature matrix '+str(test_indices)+'\\n\\n\\n')\n",
    "\n",
    "save_nameX = 'Feature_X_train_'+str(len(y))+str(F_N)+'_'+c_time+'.csv'\n",
    "save_nameX = Path('.', DIR, save_nameX)\n",
    "np.savetxt(save_nameX, X_train, fmt='%s', delimiter=',')\n",
    "save_nameX = 'Feature_X_realtest_'+str(len(yrealtest))+str(F_N)+'_'+c_time+'.csv'\n",
    "save_nameX = Path('.', DIR, save_nameX)\n",
    "np.savetxt(save_nameX, Xrealtest, fmt='%s', delimiter=',')\n",
    "save_nameX = 'Feature_y_train_'+str(len(y))+'_'+c_time+'.csv'\n",
    "save_nameX = Path('.', DIR, save_nameX)\n",
    "np.savetxt(save_nameX, y_train, fmt='%s', delimiter=',')\n",
    "save_nameX = 'Feature_y_realtest_'+str(len(yrealtest))+'_'+c_time+'.csv'\n",
    "save_nameX = Path('.', DIR, save_nameX)\n",
    "np.savetxt(save_nameX, yrealtest, fmt='%s', delimiter=',')"
   ]
  },
  {
   "cell_type": "code",
   "execution_count": 7,
   "metadata": {
    "ExecuteTime": {
     "end_time": "2024-04-12T02:41:59.985279Z",
     "start_time": "2024-04-12T02:41:59.848591Z"
    }
   },
   "outputs": [],
   "source": [
    "clf = XGBRegressor(n_estimators=350, learning_rate=0.03, max_depth=8, verbosity=0, booster='gbtree', \n",
    "                   reg_alpha=np.exp(-3), reg_lambda=np.exp(-3), gamma=np.exp(-5), \n",
    "                   subsample=0.5, objective= 'reg:squarederror', n_jobs=1)\n",
    "paras = clf.get_params()\n",
    "mse_list = []\n",
    "mae_list = []\n",
    "r2_list = []"
   ]
  },
  {
   "cell_type": "code",
   "execution_count": 8,
   "metadata": {
    "ExecuteTime": {
     "end_time": "2024-04-12T02:42:00.058069Z",
     "start_time": "2024-04-12T02:41:59.989832Z"
    }
   },
   "outputs": [],
   "source": [
    "def XGB_Fit(X, y, X_train, y_train, X_test, y_test, paras):\n",
    "    clf_new = XGBRegressor()\n",
    "    for k, v in paras.items():\n",
    "        clf_new.set_params(**{k: v})\n",
    "    # print(X_train.shape, X_test.shape, y_train.shape, y_test.shape)\n",
    "    # 拟合模型\n",
    "    clf_new.fit(X_train, y_train, eval_set=[(X_test, y_test)], early_stopping_rounds=150, verbose=False)\n",
    "    # 计算损失\n",
    "    y_pred = clf_new.predict(X_test)\n",
    "#     mae = mean_absolute_error(y_test, y_pred)\n",
    "    mse = mean_squared_error(y_test, y_pred)\n",
    "#     r2 = r2_score(y_test, y_pred)\n",
    "#     shap_values = shap.TreeExplainer(clf_new).shap_values(X)\n",
    "#     s = np.mean(clf_new.predict(X))-np.mean(y_train)\n",
    "#     s2 = np.mean(clf_new.predict(X))-np.mean(y)\n",
    "#     print(np.sum(shap_values), s, s2)\n",
    "#     # f_i = clf_new.feature_importances_\n",
    "#      temp = [mse, mae, r2, shap_values, s, s2]\n",
    "    temp = [mse]\n",
    "#     print('   MSE: %.5f' % mse, '  MAE: %.5f' % mae, '  R^2: %.5f' % r2)\n",
    "    del y_pred\n",
    "    return (temp, 'None')\n",
    "def flatten(li):\n",
    "    return sum(([x] if not isinstance(x, list) else flatten(x) for x in li), [])\n"
   ]
  },
  {
   "cell_type": "code",
   "execution_count": 9,
   "metadata": {
    "ExecuteTime": {
     "end_time": "2024-04-12T02:42:00.161857Z",
     "start_time": "2024-04-12T02:42:00.061875Z"
    }
   },
   "outputs": [],
   "source": [
    "def poolfit(TRAIN_TEST_SPLIT,EPOCH,CORE_NUM,X, y, paras):\n",
    "    r_l = []\n",
    "    point = round(X.shape[0]*TRAIN_TEST_SPLIT)\n",
    "    for _ in range(int(EPOCH/CORE_NUM)):\n",
    "        print('Round', CORE_NUM*(_)+1, 'Begin:')\n",
    "        pool = Pool(CORE_NUM)\n",
    "        for __ in range(CORE_NUM):\n",
    "            permutation = np.random.permutation(y.shape[0])\n",
    "            train_idx = permutation[:point]\n",
    "            test_idx = permutation[point:]\n",
    "            X_train = X[train_idx, :]\n",
    "            y_train = y[train_idx]\n",
    "            X_test = X[test_idx, :]\n",
    "            y_test = y[test_idx]\n",
    "            r = pool.apply_async(XGB_Fit, args=(X, y, X_train, y_train, X_test, y_test, paras,))\n",
    "            r_l.append(r)\n",
    "        pool.close()\n",
    "        pool.join()\n",
    "    mse_list=[]\n",
    "#     mae_list=[]\n",
    "#     r2_list=[]\n",
    "#     shap_m = np.zeros((S_N, F_Ntemp))\n",
    "    for i in range(len(r_l)):\n",
    "        r = r_l[i]\n",
    "        results = r.get()\n",
    "        temp = results[0]\n",
    "        mse = temp[0]\n",
    "#         mae = temp[1]\n",
    "#         r2 = temp[2]\n",
    "        mse_list.append(mse)\n",
    "#         mae_list.append(mae)\n",
    "#         r2_list.append(r2)\n",
    "\n",
    "    mse1=np.mean(mse_list)\n",
    "#     mae1=np.mean(mae_list)\n",
    "#     r21=np.mean(r2_list)\n",
    "#     temp = [mse1, mae1, r21]\n",
    "    temp = [mse1]\n",
    "    return temp"
   ]
  },
  {
   "cell_type": "code",
   "execution_count": null,
   "metadata": {
    "ExecuteTime": {
     "start_time": "2024-04-12T02:43:56.716Z"
    }
   },
   "outputs": [
    {
     "name": "stdout",
     "output_type": "stream",
     "text": [
      "Round 0\n",
      "Round 1 Begin:\n"
     ]
    }
   ],
   "source": [
    "#在这里mse越小越好\n",
    "if KNOW_inifeat == False:\n",
    "    perflist1=[]\n",
    "    for j in range (F_N):  \n",
    "        print('Round',j)\n",
    "        inifeat=title[j]\n",
    "        inifeatindex=np.where(title==inifeat)[0][0]\n",
    "        featlist=[]\n",
    "        featlist.append(inifeatindex)\n",
    "        Xtemp=X[:,featlist]\n",
    "        perf=poolfit(TRAIN_TEST_SPLIT,EPOCH,CORE_NUM,Xtemp, y, paras)\n",
    "        perflist1.append(perf[0])    \n",
    "    inifeat=np.where(perflist1==np.min(perflist1))\n",
    "    print(inifeat)\n",
    "    print(np.min(perflist1))\n",
    "    print(perflist1)\n",
    "    print(np.argsort(perflist1))\n",
    "    perflistt=np.argsort(perflist1)\n",
    "    for _ in range(10):\n",
    "        print(title[perflistt[_]])\n",
    "#画分布图\n",
    "    n, bins, patches = plt.hist(perflist1)\n",
    "    plt.show()\n",
    "else:\n",
    "    print('Already given first feature is ',title[inifeat],inifeat)"
   ]
  },
  {
   "cell_type": "code",
   "execution_count": null,
   "metadata": {
    "ExecuteTime": {
     "start_time": "2024-04-12T02:43:56.716Z"
    }
   },
   "outputs": [],
   "source": [
    "title[inifeat]"
   ]
  },
  {
   "cell_type": "code",
   "execution_count": null,
   "metadata": {
    "ExecuteTime": {
     "start_time": "2024-04-12T02:43:56.717Z"
    }
   },
   "outputs": [],
   "source": [
    "inifeatindex=np.where(title==title[inifeat])[0][0]\n",
    "print('first feature is ',inifeatindex)\n",
    "featlist=[]\n",
    "bestfeatlist=[]\n",
    "mseind=[]\n",
    "mselist=[]\n",
    "for i in range(Stepfeatnum):#for i in range(F_N-1):\n",
    "    perflist=np.linspace(0,0,len(title))\n",
    "    print('Now we have ', i+1, 'Features.Begin regression!')\n",
    "    if i ==0:       \n",
    "        featlist.append(inifeatindex)\n",
    "        print(featlist)\n",
    "        Xtemp=X[:,featlist]\n",
    "        print(Xtemp[0])\n",
    "        perf=poolfit(TRAIN_TEST_SPLIT,EPOCH,CORE_NUM,Xtemp, y, paras)\n",
    "        perflist=perf[0]\n",
    "        bestfeatlist=featlist\n",
    "        print('Round 1_'+str(title[bestfeatlist])+'_'+str(perflist)+'\\n')\n",
    "        f1.write('Round 1_'+str(title[bestfeatlist])+'_'+str(perflist)+'\\n')\n",
    "    else:\n",
    "        for j in range (F_N):     \n",
    "            featlist=bestfeatlist.copy()\n",
    "            print('j=',j)\n",
    "            if j in bestfeatlist:\n",
    "                print('Already selected feature!')\n",
    "            else:                   \n",
    "                featlist.append(j)\n",
    "                print('featlist=',featlist)\n",
    "                Xtemp=X[:,featlist]\n",
    "                print(Xtemp[0])\n",
    "                perf=poolfit(TRAIN_TEST_SPLIT,EPOCH,CORE_NUM,Xtemp, y, paras)\n",
    "                perflist[j]=perf[0]\n",
    "                print('perflist=',perflist)  \n",
    "        max2 = np.sort(perflist)[i]\n",
    "        mseind = np.argsort(perflist)[i]\n",
    "        print('This feature is',mseind)\n",
    "        print('best performance is',max2)\n",
    "        bestfeatlist.append(mseind)\n",
    "        print('bestfeatlist=',bestfeatlist)\n",
    "        print(('Round '+str(len(title[bestfeatlist]))+'_'+str(title[bestfeatlist])+'_'+str(round(max2,4))+'\\n'))\n",
    "        f1.write('Round '+str(len(title[bestfeatlist]))+'_'+str(title[bestfeatlist])+'_'+str(round(max2,4))+'\\n')\n",
    "        mselist.append(max2)\n",
    "        print(mselist)\n",
    "f1.close()"
   ]
  },
  {
   "cell_type": "code",
   "execution_count": null,
   "metadata": {
    "ExecuteTime": {
     "start_time": "2024-04-12T02:43:56.717Z"
    }
   },
   "outputs": [],
   "source": [
    "save_name1 = 'XGB-Stepregression_besttitles'+str(len(title[bestfeatlist]))+c_time+'.txt'\n",
    "save_name2 = Path('.', DIR, save_name1)\n",
    "with open(save_name2,\"w\") as f:\n",
    "    np.savetxt(save_name2,title[bestfeatlist], fmt='%s', delimiter=',', comments='!')\n",
    "f.close()\n",
    "import matplotlib.pyplot as plt\n",
    "import numpy as np\n",
    "# mselist.insert( 0, perf0)\n",
    "# make data\n",
    "x = np.linspace(1, Stepfeatnum-1,Stepfeatnum-1)\n",
    "print(len(mselist))\n",
    "y = mselist\n",
    "# plot\n",
    "fig, ax = plt.subplots()\n",
    "ax.plot(x, y, linewidth=2.0)\n",
    "plt.show()"
   ]
  },
  {
   "cell_type": "code",
   "execution_count": null,
   "metadata": {
    "ExecuteTime": {
     "start_time": "2024-04-12T02:43:56.718Z"
    }
   },
   "outputs": [],
   "source": [
    "from sklearn import model_selection\n",
    "import xgboost as xgb\n",
    "from xgboost.sklearn import XGBRegressor\n",
    "from sklearn.metrics import mean_squared_error, r2_score, mean_absolute_error\n",
    "import joblib\n",
    "def poolfit(TRAIN_TEST_SPLIT,EPOCH,CORE_NUM,X, y, paras,Xrealtest):\n",
    "    r_l = []\n",
    "    split_l=[]\n",
    "    test_idx_m=[]\n",
    "    point = round(X.shape[0]*TRAIN_TEST_SPLIT)\n",
    "    for _ in range(int(EPOCH/CORE_NUM)):\n",
    "        print('Round', CORE_NUM*(_)+1, 'Begin:')\n",
    "        pool = Pool(CORE_NUM)\n",
    "        for __ in range(CORE_NUM):\n",
    "            permutation = np.random.permutation(y.shape[0])\n",
    "            train_idx = permutation[:point]\n",
    "            test_idx = permutation[point:]\n",
    "            X_train = X[train_idx, :]\n",
    "            y_train = y[train_idx]\n",
    "            X_test = X[test_idx, :]\n",
    "            y_test = y[test_idx]\n",
    "            split_l.append(train_idx)\n",
    "            test_idx_m.append(test_idx)\n",
    "            r = pool.apply_async(XGB_Fit, args=(X, y, X_train, y_train, X_test, y_test, paras,))\n",
    "            r_l.append(r)\n",
    "        pool.close()\n",
    "        pool.join()\n",
    "\n",
    "    mse_list=[]\n",
    "    mae_list=[]\n",
    "    r2_list=[]\n",
    "    results = r.get()\n",
    "    shap_m = np.zeros((S_N, len(X[0])))\n",
    "    full_m=np.zeros((len(r_l),X.shape[0]))\n",
    "    y_realtest_pred_list = []\n",
    "    for i in range(len(r_l)):\n",
    "        r = r_l[i]\n",
    "        results = r.get()\n",
    "        temp = results[0]\n",
    "        mse = temp[0]\n",
    "        mae = temp[1]\n",
    "        r2 = temp[2]\n",
    "        shap_m += temp[3] \n",
    "        clf_new=results[1]\n",
    "        mse_list.append(mse)\n",
    "        mae_list.append(mae)\n",
    "        r2_list.append(r2)\n",
    "        train_idx = split_l[i]\n",
    "        test_idx = []\n",
    "        for j in range(X.shape[0]):\n",
    "            if j not in train_idx:\n",
    "                test_idx.append(j)\n",
    "        X_train = X[train_idx, :]\n",
    "        y_train = y[train_idx]\n",
    "        X_test = X[test_idx, :]\n",
    "        y_test = y[test_idx]\n",
    "        y_full_pred = clf_new.predict(X)\n",
    "        y_realtest_pred=clf_new.predict(Xrealtest)\n",
    "#         print(y_realtest_pred)\n",
    "        y_realtest_pred_list.append(y_realtest_pred)\n",
    "        \n",
    "#         print(y_full_pred[0])\n",
    "        full_m[i]=np.array(y_full_pred)\n",
    "    mse1=np.mean(mse_list)\n",
    "    mae1=np.mean(mae_list)\n",
    "    r21=np.mean(r2_list)\n",
    "    mse2=np.std(mse_list)\n",
    "    shap_m2 = shap_m/len(r2_list)\n",
    "    y_realtest_pred_std = np.std(y_realtest_pred_list, axis=0)\n",
    "    temp = [mse1, mae1, r21,full_m,test_idx_m,mse2,shap_m2,y_realtest_pred,y_realtest_pred_std]\n",
    "    return temp\n",
    "def XGB_Fit(X, y, X_train, y_train, X_test, y_test, paras):\n",
    "    clf_new = XGBRegressor()\n",
    "    for k, v in paras.items():\n",
    "        clf_new.set_params(**{k: v})\n",
    "    # print(X_train.shape, X_test.shape, y_train.shape, y_test.shape)\n",
    "    # 拟合模型\n",
    "    clf_new.fit(X_train, y_train, eval_set=[(X_test, y_test)], early_stopping_rounds=150, verbose=False)\n",
    "    # 计算损失\n",
    "    y_pred = clf_new.predict(X_test)\n",
    "    mae = mean_absolute_error(y_test, y_pred)\n",
    "    mse = mean_squared_error(y_test, y_pred)\n",
    "    r2 = r2_score(y_test, y_pred)\n",
    "    shap_values = shap.TreeExplainer(clf_new).shap_values(X)\n",
    "    temp0 = [mse, mae, r2, shap_values]\n",
    "    print('   MSE: %.5f' % mse, '  MAE: %.5f' % mae, '  R^2: %.5f' % r2)\n",
    "    return (temp0, clf_new)\n",
    "\n",
    "\n",
    "# Create clf (sklean的API)\n",
    "shap_m = np.zeros((S_N, len(X[0])))\n",
    "paras = clf.get_params()\n",
    "mse_list = []\n",
    "mae_list = []\n",
    "r2_list = []\n",
    "f_i = np.zeros((title.shape[0], 1))\n",
    "max_r2 = -999.9"
   ]
  },
  {
   "cell_type": "code",
   "execution_count": null,
   "metadata": {
    "ExecuteTime": {
     "start_time": "2024-04-12T02:43:56.718Z"
    }
   },
   "outputs": [],
   "source": [
    "title[bestfeatlist]"
   ]
  },
  {
   "cell_type": "code",
   "execution_count": null,
   "metadata": {
    "ExecuteTime": {
     "start_time": "2024-04-12T02:43:56.719Z"
    }
   },
   "outputs": [],
   "source": [
    "# bestfeatlist=[8, 84, 89, 68, 109, 2]\n",
    "# title[bestfeatlist]"
   ]
  },
  {
   "cell_type": "code",
   "execution_count": null,
   "metadata": {
    "ExecuteTime": {
     "start_time": "2024-04-12T02:43:56.720Z"
    }
   },
   "outputs": [],
   "source": [
    "# X = np.loadtxt(INPUT_X, delimiter=',')\n",
    "# y = np.loadtxt(INPUT_Y)\n",
    "print('X:', X.shape, '   y:', y.shape)\n",
    "besttitle =title[bestfeatlist]\n",
    "thistitleindex=[]\n",
    "titlelist=[]\n",
    "mselist=[]\n",
    "Xtemp=[]\n",
    "y_realtest_pred_list=[[]]\n",
    "\n",
    "for jj in range(len(besttitle)):#len(title)-1\n",
    "    \n",
    "    thistitleindex=np.where(title==besttitle[jj])\n",
    "    titlelist.append(thistitleindex[0][0])\n",
    "    print(titlelist)\n",
    "    Xtemp=X[:,titlelist]\n",
    "    Xrealtesttemp=Xrealtest[:,titlelist]\n",
    "    print(len(Xtemp[0]))\n",
    "        \n",
    "    perf=poolfit(TRAIN_TEST_SPLIT,EPOCH,CORE_NUM,Xtemp, y, paras,Xrealtesttemp)\n",
    "    y_realtest_pred=perf[7]\n",
    "    y_realtest_pred_reshaped = y_realtest_pred.reshape(1, -1)\n",
    "    append_filename = Path('.', DIR, 'All_Realtestpred_' + c_time + '.txt')\n",
    "    with open(append_filename, 'a+') as f:\n",
    "        np.savetxt(f, y_realtest_pred_reshaped, fmt='%s', delimiter=',')\n",
    "    \n",
    "    \n",
    "    y_realtest_pred_std=perf[8]\n",
    "    y_realtest_pred_reshaped_std = y_realtest_pred_std.reshape(1, -1)\n",
    "    append_filename = Path('.', DIR, 'All_Realtestpredstd_' + c_time + '.txt')\n",
    "    with open(append_filename, 'a+') as f:\n",
    "        np.savetxt(f, y_realtest_pred_reshaped_std, fmt='%s', delimiter=',')\n",
    "    \n",
    "        \n",
    "    full_m=perf[3]\n",
    "    full_m = np.array(full_m)\n",
    "    test_idx_m = perf[4]\n",
    "    test_idx_m = np.array(test_idx_m)\n",
    "    save_name = 'XGBoost_02a_Test_Index_'+str(len(Xtemp[0]))+'_'+c_time+'.csv'\n",
    "    save_name = Path('.', DIR, save_name)\n",
    "    np.savetxt(save_name, test_idx_m, fmt='%d', delimiter=',')\n",
    "    shap_m=perf[6]\n",
    "    save_name = 'SHAP_Matrix_'+str(len(titlelist))+'_'+c_time+'.csv'\n",
    "    save_name = Path('.', DIR, save_name)\n",
    "    np.savetxt(save_name, shap_m, fmt='%s', delimiter=',')\n",
    "    save_nameX = 'Feature_Matrix_'+str(len(titlelist))+'_'+c_time+'.csv'\n",
    "    save_nameX = Path('.', DIR, save_nameX)\n",
    "    np.savetxt(save_nameX, Xtemp, fmt='%s', delimiter=',')\n",
    "    test_data_m = []\n",
    "    for i in range(X.shape[0]):\n",
    "        test_data_m.append([])\n",
    "    for i in range(test_idx_m.shape[0]):\n",
    "        for j in range(test_idx_m.shape[1]):\n",
    "            test_data_m[test_idx_m[i, j]].append(full_m[i, test_idx_m[i, j]])\n",
    "    test_upper_l = []\n",
    "    test_lower_l = []\n",
    "    test_mean_l = []\n",
    "    test_median_l = []\n",
    "    test_std_l = []\n",
    "    for i in range(X.shape[0]):\n",
    "        test_upper_l.append(max(test_data_m[i]))\n",
    "        test_lower_l.append(min(test_data_m[i]))\n",
    "        test_mean_l.append(np.mean(test_data_m[i]))\n",
    "        test_median_l.append(np.median(test_data_m[i]))\n",
    "        test_std_l.append(np.std(test_data_m[i]))\n",
    "        \n",
    "    true_y = y.flatten().tolist()\n",
    "    fig = plt.figure(figsize=(10, 8), dpi=300)\n",
    "    ax = fig.add_axes([0.11, 0.08, 0.88, 0.815])\n",
    "    sc = ax.scatter(true_y, test_mean_l, alpha=0.55, c=test_std_l, cmap='viridis', marker='o')\n",
    "    left_limit = min(min(true_y)-1, min(test_mean_l)-1)\n",
    "    right_limit = max(max(true_y)+1, max(test_mean_l)+1)\n",
    "    ax.plot([left_limit, right_limit], [left_limit, right_limit], color='#B22222', linestyle=':', linewidth = '2')\n",
    "    ax.plot([left_limit, right_limit], [left_limit+1, right_limit+1], color='#FFA500', linestyle=':', linewidth = '2')\n",
    "    ax.plot([left_limit, right_limit], [left_limit-1, right_limit-1], color='#FFA500', linestyle=':', linewidth = '2')\n",
    "    ax.legend(['Correct', 'Correct+1', 'Correct-1', 'Mean of Test Prediction'], loc='upper left', fontsize=17, shadow=True)\n",
    "    ax.set_xlabel('True Values', fontsize=17)\n",
    "    ax.set_ylabel('Mean Values of Test Prediction', fontsize=17)\n",
    "    plt.suptitle('Scatter of Mean Test Prediction vs True of '+str(len(Xtemp[0]))+' topfeatures\\n'+\n",
    "                 'Mean Test:  MSE: '+str(round(perf[0], 4))+\n",
    "                 '  MAE: '+str(round(perf[1], 4))+\n",
    "                 '  R^2: '+str(round(perf[2], 4)), fontsize=21)\n",
    "    cb = plt.colorbar(sc)\n",
    "    cb.set_label('Standard Deviation of Test Predictions', fontsize=17)\n",
    "    plt.grid(which='major', color='#D5D5D5', alpha=0.5)\n",
    "    save_name = 'XGBoost_02b_Mean_Test_Prediction_Distribution_'+str(len(Xtemp[0]))+'_'+c_time+'.png'\n",
    "    save_name = Path('.', DIR, save_name)\n",
    "    plt.savefig(save_name)\n",
    "    plt.show()\n",
    "    mselist.append(round(perf[0],3))\n",
    "    xgbscatterdata= np.column_stack((true_y, test_mean_l, test_std_l))\n",
    "    save_name1 = 'XGBoost_02c_Mean_Test_Prediction_Distribution_'+str(len(Xtemp[0]))+'_topfeatures'+'_MSE'+str(round(perf[0],3))+'_MSEstd'+str(round(perf[5],3))+'_MAE'+str(round(perf[1],3))+'_R^sq'+str(round(perf[2],3))+besttitle[jj]+'.txt'\n",
    "    save_name2 = Path('.', DIR, save_name1)\n",
    "    with open(save_name2,\"w\") as f:\n",
    "        np.savetxt(save_name2,xgbscatterdata, fmt='%s', delimiter=',', comments='!')\n",
    "    f.close()\n"
   ]
  },
  {
   "cell_type": "code",
   "execution_count": null,
   "metadata": {
    "ExecuteTime": {
     "start_time": "2024-04-12T02:43:56.721Z"
    }
   },
   "outputs": [],
   "source": [
    "len(Xrealtest[0])"
   ]
  },
  {
   "cell_type": "code",
   "execution_count": null,
   "metadata": {
    "ExecuteTime": {
     "start_time": "2024-04-12T02:43:56.721Z"
    }
   },
   "outputs": [],
   "source": [
    "print(mselist)\n",
    "print(mselist.index(min(mselist)))\n",
    "print(title[bestfeatlist])\n",
    "titlelist=[]\n",
    "Xtemp=[]\n",
    "for jj in range(len(bestfeatlist)):#len(title)-1\n",
    "    thistitleindex=np.where(title==besttitle[jj])\n",
    "    titlelist.append(thistitleindex[0][0])\n",
    "    print(titlelist)\n",
    "    Xtemp=X[:,titlelist]\n",
    "# Create a scatter plot\n",
    "for jj in range(len(bestfeatlist)):#len(title)-1\n",
    "    plt.scatter(Xtemp[:,jj], shap_m[:, jj])\n",
    "    plt.xlabel('Xtemp')\n",
    "    plt.ylabel('First column of SHAP Matrix')\n",
    "    plt.title('SHAP Scatter plot of '+title[titlelist[jj]])\n",
    "    save_name = 'XGBoost_02b_Mean_Test_Prediction_Distribution_'+str(title[titlelist[jj]])+'_'+c_time+'.png'\n",
    "    save_name = Path('.', DIR, save_name)\n",
    "    plt.savefig(save_name)\n",
    "    plt.show()"
   ]
  },
  {
   "cell_type": "code",
   "execution_count": null,
   "metadata": {},
   "outputs": [],
   "source": []
  },
  {
   "cell_type": "code",
   "execution_count": null,
   "metadata": {
    "ExecuteTime": {
     "start_time": "2024-04-12T02:43:56.722Z"
    }
   },
   "outputs": [],
   "source": [
    "# 全特征的预测\n",
    "point = round(X.shape[0]*TRAIN_TEST_SPLIT)\n",
    "# featnum=mselist.index(min(mselist))\n",
    "permutation = np.random.permutation(y.shape[0])\n",
    "train_idx = permutation[:point]\n",
    "test_idx = permutation[point:]\n",
    "X_train = X[train_idx, :]\n",
    "y_train = y[train_idx]\n",
    "X_test = X[test_idx, :]\n",
    "y_test = y[test_idx]\n",
    "\n",
    "# 初始化XGBRegressor对象\n",
    "\n",
    "clf = XGBRegressor(n_estimators=350, learning_rate=0.03, max_depth=8, verbosity=0, booster='gbtree', \n",
    "                   reg_alpha=np.exp(-3), reg_lambda=np.exp(-3), gamma=np.exp(-5), \n",
    "                   subsample=0.5, objective= 'reg:squarederror', n_jobs=1)\n",
    "# 设置模型的超参数\n",
    "for k, v in paras.items():\n",
    "    clf.set_params(**{k: v})\n",
    "clf.fit(X_train, y_train, eval_set=[(X_test, y_test)], early_stopping_rounds=150, verbose=False)\n",
    "# 计算在测试集上的预测值\n",
    "y_pred = clf.predict(Xrealtest)\n",
    "print(y_pred)\n",
    "# titlelist=[]\n",
    "# Xtemp=[]\n",
    "# thistitleindex=[]\n",
    "# Xrealtesttemp=[]\n",
    "# for jj in range(len(besttitle)):#len(title)-1\n",
    "#     thistitleindex=np.where(title==besttitle[jj])\n",
    "#     titlelist.append(thistitleindex[0][0])\n",
    "# #     print(titlelist)\n",
    "#     Xtemp=X[:,titlelist]\n",
    "#     Xrealtesttemp=Xrealtest[:,titlelist]\n",
    "# clf.fit(Xtemp, y)\n",
    "# # 计算损失\n",
    "# y_pred2 = clf.predict(Xrealtesttemp)\n",
    "# print(y_pred2)\n",
    "save_name1 = 'XGBpred_Full'+'.txt'\n",
    "save_name2 = Path('.', DIR, save_name1)\n",
    "with open(save_name2,\"w\") as f:\n",
    "    np.savetxt(save_name2,[y_pred,y_realtest_pred_reshaped[-1]], fmt='%s', delimiter=',', comments='!')\n"
   ]
  },
  {
   "cell_type": "code",
   "execution_count": null,
   "metadata": {
    "ExecuteTime": {
     "start_time": "2024-04-12T02:43:56.723Z"
    }
   },
   "outputs": [],
   "source": [
    "mae = mean_absolute_error(yrealtest, y_realtest_pred_reshaped[-1])\n",
    "mae"
   ]
  },
  {
   "cell_type": "code",
   "execution_count": null,
   "metadata": {
    "ExecuteTime": {
     "start_time": "2024-04-12T02:43:56.723Z"
    }
   },
   "outputs": [],
   "source": [
    "len(X)"
   ]
  },
  {
   "cell_type": "code",
   "execution_count": null,
   "metadata": {},
   "outputs": [],
   "source": []
  }
 ],
 "metadata": {
  "hide_input": false,
  "kernelspec": {
   "display_name": "PythonForDYH",
   "language": "python",
   "name": "dyhpy"
  },
  "language_info": {
   "codemirror_mode": {
    "name": "ipython",
    "version": 3
   },
   "file_extension": ".py",
   "mimetype": "text/x-python",
   "name": "python",
   "nbconvert_exporter": "python",
   "pygments_lexer": "ipython3",
   "version": "3.7.6"
  },
  "varInspector": {
   "cols": {
    "lenName": 16,
    "lenType": 16,
    "lenVar": 40
   },
   "kernels_config": {
    "python": {
     "delete_cmd_postfix": "",
     "delete_cmd_prefix": "del ",
     "library": "var_list.py",
     "varRefreshCmd": "print(var_dic_list())"
    },
    "r": {
     "delete_cmd_postfix": ") ",
     "delete_cmd_prefix": "rm(",
     "library": "var_list.r",
     "varRefreshCmd": "cat(var_dic_list()) "
    }
   },
   "position": {
    "height": "820.383px",
    "left": "576.734px",
    "right": "20px",
    "top": "273.961px",
    "width": "799.969px"
   },
   "types_to_exclude": [
    "module",
    "function",
    "builtin_function_or_method",
    "instance",
    "_Feature"
   ],
   "window_display": false
  }
 },
 "nbformat": 4,
 "nbformat_minor": 4
}
